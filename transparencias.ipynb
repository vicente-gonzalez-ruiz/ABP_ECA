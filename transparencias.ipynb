{
 "cells": [
  {
   "cell_type": "markdown",
   "metadata": {
    "slideshow": {
     "slide_type": "slide"
    }
   },
   "source": [
    "# Aprendizaje Basado en Proyectos con Evaluación Continua Activa\n",
    "\n",
    "|                                  |                                   |\n",
    "| -------------------------------- | --------------------------------- |\n",
    "|          *Vicente González Ruiz* | `vicente.gonzalez.ruiz@gmail.com` |\n",
    "| *Teresa Mirian Santamaria Lopez* | `tsantamaria710@gmail.com`        |\n"
   ]
  },
  {
   "cell_type": "markdown",
   "metadata": {
    "slideshow": {
     "slide_type": "slide"
    }
   },
   "source": [
    "# Indice\n",
    "\n",
    "1. ¿Qué es el ABP (Aprendizaje Basado en Proyectos)?\n",
    "2. Ventajas e inconvenientes del ABP.\n",
    "3. Algunas asignaturas basadas en el ABP.\n",
    "4. Detalles de la metodología/evaluación.\n",
    "5. Resultados y opiniones.\n",
    "6. Conclusiones."
   ]
  },
  {
   "cell_type": "markdown",
   "metadata": {
    "slideshow": {
     "slide_type": "slide"
    }
   },
   "source": [
    "# ¿Qué es el ABP?\n",
    "\n",
    "1. Los alumnos desarrollan durante el transcurso del curso uno o varios proyectos relacionados con los contenidos de la asignatura.\n",
    "2. El orden en que los contenidos son presentados a los alumnos depende de los problemas que hay que resolver en el proyecto.\n",
    "3. La mayor parte del tiempo de clase se utiliza en exponer los problemas y en dar soluciones, no en explicar los contenidos."
   ]
  },
  {
   "cell_type": "markdown",
   "metadata": {
    "slideshow": {
     "slide_type": "slide"
    }
   },
   "source": [
    "# Ventajas del ABP\n",
    "\n",
    "1. Los alumnos entienden mejor el por qué de los contenidos estudiados.\n",
    "2. Se facilita mucho el desarrollo de la capacidad de trabajo en equipo.\n",
    "3. Si se definen unos hitos durante el desarrollo del proyecto, el cómo se van alcanzando los hitos facilita la evaluación continua.\n",
    "4. Como no existen soluciones únicas, los alumnos pueden aplicar su creatividad.\n",
    "5. Las clases son más amenas e interactivas."
   ]
  },
  {
   "cell_type": "markdown",
   "metadata": {},
   "source": [
    "# Desventajas del ABP\n",
    "\n",
    "1. Implica más trabajo por parte del alumnado, pero sobre todo para el profesorado.\n",
    "2. Generalmente no es recomendable desarrollar cada año el mismo proyecto, por lo que éste debe ser mejorado continuamente o deben realizarse otros proyectos diferentes."
   ]
  },
  {
   "cell_type": "markdown",
   "metadata": {},
   "source": [
    "# Algunas asignaturas basadas en el ABP\n",
    "\n",
    "En la UAL (Universidad de Almería) actualmente se imparten según la metodología ABP al menos:\n",
    "\n",
    "1. Tecnologías Multimedia (optativa de cuarto curso de Ingeniería Informática).\n",
    "    * El proyecto actualmente desarrollado es `intercom` (`https://github.com/Tecnologias-multimedia/intercom`), un intercomunicador de baja latencia para Internet.\n",
    "2. Sistemas Multimedia (troncal del  Máster en Tecnologías y Aplicaciones en Ingeniería Informática).\n",
    "    * El proyecto actualmente desarrollado es `MRVC` (`https://github.com/Sistemas-Multimedia/MRVC`), un compresor de vídeo escalable en resolución espacial."
   ]
  },
  {
   "cell_type": "markdown",
   "metadata": {},
   "source": [
    "# Detalles de la metodología/evaluación\n",
    "\n",
    "1. Cada año el proyecto es el mismo, pero se va mejorando/ampliando.\n",
    "2. Los alumnos trabajan en grupos de hasta 4 personas.\n",
    "3. Todos los grupos desarrollan el mismo proyecto, y trabajan sobre las mejoras (no desarrollan el proyecto desde cero).\n",
    "4. Se definen un conjunto de hitos desde el comienzo de curso y se define una temporización.\n",
    "5. Tras el *deadline* de cada hito, cada grupo expone al resto de la clase su solución.\n",
    "6. Se definen una serie de rúbricas (dependientes del hito) que tanto los alumnos como el profesor usan para evaluar las soluciones de sus compañeros. Así, cada grupo es calificado tras cada hito.\n",
    "7. La nota de la asignatura para cada grupo es el promedio de las notas de los hitos.\n",
    "8. La nota de cada hito es la media entre la media de las notas de los compañeros (por grupos) y la nota del profesor.\n",
    "9. Tras el último hito, si hay más de un alumno en un grupo, y sin alterar la nota final del grupo, se permite que cada grupo internamente mueva las notas de sus integrantes si éstos lo ven conveniente."
   ]
  },
  {
   "cell_type": "markdown",
   "metadata": {},
   "source": [
    "# Resultados y opiniones\n"
   ]
  }
 ],
 "metadata": {
  "celltoolbar": "Slideshow",
  "kernelspec": {
   "display_name": "Python 3",
   "language": "python",
   "name": "python3"
  },
  "language_info": {
   "codemirror_mode": {
    "name": "ipython",
    "version": 3
   },
   "file_extension": ".py",
   "mimetype": "text/x-python",
   "name": "python",
   "nbconvert_exporter": "python",
   "pygments_lexer": "ipython3",
   "version": "3.9.5"
  }
 },
 "nbformat": 4,
 "nbformat_minor": 4
}
