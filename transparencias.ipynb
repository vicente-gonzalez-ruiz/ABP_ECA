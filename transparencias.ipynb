{
 "cells": [
  {
   "cell_type": "markdown",
   "metadata": {
    "slideshow": {
     "slide_type": "skip"
    }
   },
   "source": [
    "<style>\n",
    "td, th {\n",
    "   border: none!important;\n",
    "   font-size: 20px\n",
    "}\n",
    "table {float:left}\n",
    ".reveal p {\n",
    "   font-family: 'Raleway', sans-serif;\n",
    "   color: #2d28cc;\n",
    "   slideNumber: true;\n",
    "}\n",
    "      .blink {\n",
    "        animation: blinker 0.6s linear infinite;\n",
    "        color: #1c87c9;\n",
    "        font-size: 30px;\n",
    "        font-weight: bold;\n",
    "        font-family: sans-serif;\n",
    "      }\n",
    "</style>"
   ]
  },
  {
   "cell_type": "markdown",
   "metadata": {
    "slideshow": {
     "slide_type": "slide"
    }
   },
   "source": [
    "<style>\n",
    "td, th {\n",
    "   border: none!important;\n",
    "   font-size: 20px\n",
    "}\n",
    "table {float:left}\n",
    "</style>\n",
    "\n",
    "# Aprendizaje Basado en Proyectos con Evaluación Continua Activa\n",
    "\n",
    "| *Vicente González Ruiz*           | *Teresa Mirian Santamaria Lopez* |\n",
    "| --------------------------------- | -------------------------------- |\n",
    "| <vicente.gonzalez.ruiz@gmail.com> | <tsantamaria710@gmail.com>       |\n",
    "| Escuela Superior de Ingeniería    | Facultad de Filosofía            |\n",
    "| Departamento de Informática       | Carrera Informática              |\n",
    "| Universidad de Almería (UAL)      | Universidad de Guayaquil         |\n",
    "| España                            | Ecuador                          |"
   ]
  },
  {
   "cell_type": "markdown",
   "metadata": {
    "slideshow": {
     "slide_type": "slide"
    }
   },
   "source": [
    "# Indice\n",
    "\n",
    "1. ¿Qué es el ABP (Aprendizaje Basado en Proyectos)? \n",
    "2. Ventajas e inconvenientes del ABP.  \n",
    "3. Algunas asignaturas (de la UAL) basadas en el ABP.\n",
    "4. Detalles de la metodología/evaluación.\n",
    "5. Resultados y opiniones.\n",
    "6. Conclusiones."
   ]
  },
  {
   "cell_type": "markdown",
   "metadata": {
    "slideshow": {
     "slide_type": "slide"
    }
   },
   "source": [
    "# 1. ¿Qué es el ABP?\n",
    "\n",
    "1. Los alumnos desarrollan durante el transcurso del curso uno o varios proyectos relacionados con los contenidos de la asignatura.\n",
    "2. El orden en que los contenidos son presentados a los alumnos depende de los problemas que hay que resolver en el proyecto.\n",
    "3. La mayor parte del tiempo de clase se utiliza en exponer los problemas y en dar soluciones, no en explicar los contenidos."
   ]
  },
  {
   "cell_type": "markdown",
   "metadata": {
    "slideshow": {
     "slide_type": "slide"
    }
   },
   "source": [
    "# 2. Ventajas del ABP\n",
    "\n",
    "1. Los alumnos entienden mejor el por qué de los contenidos estudiados.\n",
    "2. Se facilita mucho el desarrollo de la capacidad de trabajo en equipo.\n",
    "3. Si se definen unos hitos durante el desarrollo del proyecto, el cómo se van alcanzando los hitos facilita la evaluación continua.\n",
    "4. Como no existen soluciones únicas, los alumnos pueden ser creativos.\n",
    "5. Las clases son más amenas e interactivas."
   ]
  },
  {
   "cell_type": "markdown",
   "metadata": {
    "slideshow": {
     "slide_type": "slide"
    }
   },
   "source": [
    "# 3. Desventajas del ABP\n",
    "\n",
    "1. Implica más trabajo por parte del alumnado, pero sobre todo para el profesorado.\n",
    "2. Generalmente no es recomendable desarrollar cada año el mismo proyecto, por lo que éste debe ser mejorado continuamente o deben realizarse otros proyectos diferentes."
   ]
  },
  {
   "cell_type": "markdown",
   "metadata": {
    "slideshow": {
     "slide_type": "slide"
    }
   },
   "source": [
    "# 4. Algunas asignaturas basadas en el ABP\n",
    "\n",
    "En la UAL actualmente se imparten según la metodología ABP al menos:\n",
    "\n",
    "1. Tecnologías Multimedia (optativa de cuarto curso de Ingeniería Informática).\n",
    "    * El proyecto actualmente desarrollado es `intercom` (`https://github.com/Tecnologias-multimedia/intercom`), un intercomunicador de audio de baja latencia para Internet.\n",
    "2. Sistemas Multimedia (troncal del  Máster en Tecnologías y Aplicaciones en Ingeniería Informática).\n",
    "    * El proyecto actualmente desarrollado es `MRVC` (`https://github.com/Sistemas-Multimedia/MRVC`), un compresor de vídeo escalable en resolución espacial."
   ]
  },
  {
   "cell_type": "markdown",
   "metadata": {
    "slideshow": {
     "slide_type": "slide"
    }
   },
   "source": [
    "# 5. Detalles de la metodología docente\n",
    "\n",
    "1. Si es posible, cada año el proyecto es el mismo, pero se va mejorando/ampliando.\n",
    "2. Los alumnos trabajan en grupos de hasta 4 personas. Ellos deciden su composición.\n",
    "3. Todos los grupos desarrollan el mismo proyecto, y trabajan básicamente sobre las mejoras (no desarrollan el proyecto desde cero).\n",
    "4. El profesor define un conjunto de hitos desde el comienzo de curso y se define una temporización (generalmente un hito por semana).\n",
    "5. Tras el *deadline* de cada hito, cada grupo expone al resto de la clase su solución.\n",
    "6. Tras cada presentación se abre un turno de questiones donde tanto los alumnos como el profesor preguntan al grupo que acaba de exponer."
   ]
  },
  {
   "cell_type": "markdown",
   "metadata": {
    "slideshow": {
     "slide_type": "slide"
    }
   },
   "source": [
    "# 6. Detalles de la evaluación\n",
    "\n",
    "1. Los grupos sólo presentan si han conseguido soluciones razonables para los hitos.\n",
    "2. Cada grupo es calificado, en público, tras cada hito por el resto de grupos y el profesor, usando una serie de rúbricas conocidas y específicas para cada hito.\n",
    "3. Los alumnos ordenan de forma descendente, comenzando desde 10 y con números naturales, las soluciones de sus compañeros. El profesor no tiene esta restricción.\n",
    "4. La nota final de la asignatura para cada grupo es el promedio de las notas de los hitos.\n",
    "5. La nota de cada hito es la media entre la media de las notas de los compañeros (por grupos) y la nota del profesor.\n",
    "6. Tras el último hito, si hay más de un alumno en un grupo, y sin alterar la nota final del grupo, se permite que cada grupo internamente mueva las notas de sus integrantes si lo ven conveniente."
   ]
  },
  {
   "cell_type": "code",
   "execution_count": 1,
   "metadata": {
    "slideshow": {
     "slide_type": "skip"
    }
   },
   "outputs": [],
   "source": [
    "matriculados = {}\n",
    "matriculados[2002]= 92\n",
    "matriculados[2003]= 124\n",
    "matriculados[2004]= 83\n",
    "matriculados[2005]= 28\n",
    "matriculados[2006]= 25\n",
    "matriculados[2007]= 24\n",
    "matriculados[2008]= 34\n",
    "matriculados[2009]= 58\n",
    "matriculados[2010]= 33\n",
    "matriculados[2011]= 22\n",
    "matriculados[2012]= 7\n",
    "matriculados[2013]= 14\n",
    "matriculados[2014]= 23\n",
    "matriculados[2015]= 21\n",
    "matriculados[2016]= 41\n",
    "matriculados[2017]= 32\n",
    "matriculados[2018]= 21\n",
    "matriculados[2019]= 49\n",
    "matriculados[2020]= 38"
   ]
  },
  {
   "cell_type": "code",
   "execution_count": 2,
   "metadata": {
    "slideshow": {
     "slide_type": "skip"
    }
   },
   "outputs": [],
   "source": [
    "fracasos = {}\n",
    "fracasos[2002]= 18\n",
    "fracasos[2003]= 80\n",
    "fracasos[2004]= 70\n",
    "fracasos[2005]= 19\n",
    "fracasos[2006]= 17\n",
    "fracasos[2007]= 9\n",
    "fracasos[2008]= 8\n",
    "fracasos[2009]= 13\n",
    "fracasos[2010]= 4\n",
    "fracasos[2011]= 7\n",
    "fracasos[2012]= 4\n",
    "fracasos[2013]= 0\n",
    "fracasos[2014]= 10\n",
    "fracasos[2015]= 1\n",
    "fracasos[2016]= 2\n",
    "fracasos[2017]= 4\n",
    "fracasos[2018]= 2\n",
    "fracasos[2019]= 3\n",
    "fracasos[2020]= 4"
   ]
  },
  {
   "cell_type": "markdown",
   "metadata": {
    "slideshow": {
     "slide_type": "slide"
    }
   },
   "source": [
    "# 7. Resultados"
   ]
  },
  {
   "cell_type": "code",
   "execution_count": 3,
   "metadata": {
    "slideshow": {
     "slide_type": "fragment"
    },
    "tags": [
     "to_remove"
    ]
   },
   "outputs": [
    {
     "data": {
      "image/png": "[encoded data removed]",
      "text/plain": [
       "<Figure size 1008x576 with 1 Axes>"
      ]
     },
     "metadata": {
      "needs_background": "light"
     },
     "output_type": "display_data"
    }
   ],
   "source": [
    "# This cell has been tagged (View -> Cell Toolbar -> Tags) \"to_remove\"\n",
    "import matplotlib.pyplot as plt\n",
    "import numpy as np\n",
    "\n",
    "plt.figure(figsize=(14, 8))\n",
    "plt.title(\"Tecnologías Multimedia\", fontsize=20)\n",
    "plt.bar(*zip(*matriculados.items()), label=\"Matriculados\")\n",
    "plt.bar(*zip(*fracasos.items()), label=\"No presentados o suspensos\")\n",
    "plt.xlabel(\"Año\", fontsize=20)\n",
    "plt.ylabel(\"Número de alumnos\", fontsize=20)\n",
    "plt.xticks(ticks=2002 + np.arange(19).astype(np.int16))\n",
    "plt.legend(fontsize=\"xx-large\")\n",
    "plt.show()"
   ]
  },
  {
   "cell_type": "markdown",
   "metadata": {
    "slideshow": {
     "slide_type": "fragment"
    }
   },
   "source": [
    "El ABP comienza a aplicarse en 2015."
   ]
  },
  {
   "cell_type": "code",
   "execution_count": 4,
   "metadata": {
    "slideshow": {
     "slide_type": "subslide"
    },
    "tags": [
     "to_remove"
    ]
   },
   "outputs": [
    {
     "data": {
      "image/png": "[encoded data removed]",
      "text/plain": [
       "<Figure size 1008x576 with 1 Axes>"
      ]
     },
     "metadata": {
      "needs_background": "light"
     },
     "output_type": "display_data"
    }
   ],
   "source": [
    "years = np.array([*matriculados.keys()])\n",
    "matric = np.array([*matriculados.values()])\n",
    "frac = np.array([*fracasos.values()])\n",
    "success = 100*(matric-frac)/matric\n",
    "\n",
    "plt.figure(figsize=(14, 8))\n",
    "plt.title(\"Tecnologías Multimedia\", fontsize=20)\n",
    "plt.bar(years, success)\n",
    "plt.xlabel(\"Año\", fontsize=20)\n",
    "plt.ylabel(\"Porcentaje de éxito\", fontsize=20)\n",
    "plt.xticks(ticks=2002 + np.arange(19).astype(np.int16))\n",
    "#plt.legend()\n",
    "plt.show()"
   ]
  },
  {
   "cell_type": "markdown",
   "metadata": {
    "slideshow": {
     "slide_type": "slide"
    }
   },
   "source": [
    "# 7. Resultados"
   ]
  },
  {
   "cell_type": "code",
   "execution_count": 5,
   "metadata": {
    "slideshow": {
     "slide_type": "skip"
    }
   },
   "outputs": [],
   "source": [
    "matriculados = {}\n",
    "matriculados[2014]= 5\n",
    "matriculados[2015]= 9\n",
    "matriculados[2016]= 13\n",
    "matriculados[2017]= 12\n",
    "matriculados[2018]= 17\n",
    "matriculados[2019]= 20\n",
    "matriculados[2020]= 13"
   ]
  },
  {
   "cell_type": "code",
   "execution_count": 6,
   "metadata": {
    "slideshow": {
     "slide_type": "skip"
    }
   },
   "outputs": [],
   "source": [
    "fracasos = {}\n",
    "fracasos[2014]= 0\n",
    "fracasos[2015]= 0\n",
    "fracasos[2016]= 0\n",
    "fracasos[2017]= 0\n",
    "fracasos[2018]= 1\n",
    "fracasos[2019]= 1\n",
    "fracasos[2020]= 1"
   ]
  },
  {
   "cell_type": "code",
   "execution_count": 7,
   "metadata": {
    "slideshow": {
     "slide_type": "fragment"
    },
    "tags": [
     "to_remove"
    ]
   },
   "outputs": [
    {
     "data": {
      "image/png": "[encoded data removed]",
      "text/plain": [
       "<Figure size 1008x576 with 1 Axes>"
      ]
     },
     "metadata": {
      "needs_background": "light"
     },
     "output_type": "display_data"
    }
   ],
   "source": [
    "# This cell has been tagged (View -> Cell Toolbar -> Tags) \"to_remove\"\n",
    "import matplotlib.pyplot as plt\n",
    "import numpy as np\n",
    "\n",
    "plt.figure(figsize=(14, 8))\n",
    "plt.title(\"Sistemas Multimedia\", fontsize=20)\n",
    "plt.bar(*zip(*matriculados.items()), label=\"Matriculados\")\n",
    "plt.bar(*zip(*fracasos.items()), label=\"No presentados o suspensos\")\n",
    "plt.xlabel(\"Año\", fontsize=20)\n",
    "plt.ylabel(\"Número de alumnos\", fontsize=20)\n",
    "plt.xticks(ticks=2014 + np.arange(7).astype(np.int16))\n",
    "plt.legend(fontsize=\"xx-large\")\n",
    "plt.show()"
   ]
  },
  {
   "cell_type": "markdown",
   "metadata": {
    "slideshow": {
     "slide_type": "fragment"
    }
   },
   "source": [
    "Siempre se ha aplicado el ABP."
   ]
  },
  {
   "cell_type": "code",
   "execution_count": 8,
   "metadata": {
    "slideshow": {
     "slide_type": "subslide"
    },
    "tags": [
     "to_remove"
    ]
   },
   "outputs": [
    {
     "data": {
      "image/png": "[encoded data removed]",
      "text/plain": [
       "<Figure size 1008x576 with 1 Axes>"
      ]
     },
     "metadata": {
      "needs_background": "light"
     },
     "output_type": "display_data"
    }
   ],
   "source": [
    "years = np.array([*matriculados.keys()])\n",
    "matric = np.array([*matriculados.values()])\n",
    "frac = np.array([*fracasos.values()])\n",
    "success = 100*(matric-frac)/matric\n",
    "\n",
    "plt.figure(figsize=(14, 8))\n",
    "plt.title(\"Sistemas Multimedia\", fontsize=20)\n",
    "plt.bar(years, success)\n",
    "plt.xlabel(\"Año\", fontsize=20)\n",
    "plt.ylabel(\"Porcentaje de éxito\", fontsize=20)\n",
    "plt.xticks(ticks=2014 + np.arange(7).astype(np.int16))\n",
    "#plt.legend()\n",
    "plt.show()"
   ]
  },
  {
   "cell_type": "markdown",
   "metadata": {
    "slideshow": {
     "slide_type": "slide"
    }
   },
   "source": [
    "# Algunas opiniones de los estudiantes sobre Tecnologías Multimedia\n",
    "\n",
    "Recabadas mediante encuestas anónimas tras cursar la asignatura. Por ahora sólo 5 encuestados :-/"
   ]
  },
  {
   "cell_type": "markdown",
   "metadata": {
    "slideshow": {
     "slide_type": "fragment"
    }
   },
   "source": [
    "* Pregunta: Si ordenara las asignaturas cursadas durenta el primer cuatrimestre en función del tiempo de estudio total dedicado (siendo la asignatura a la que más tiempo ha dedicado la que queda situada en la posición 1 de la lista ), ¿en qué posición aparece Tecnologías Multimedia?"
   ]
  },
  {
   "cell_type": "markdown",
   "metadata": {
    "slideshow": {
     "slide_type": "fragment"
    }
   },
   "source": [
    "* Respuesta más frecuente: 2º lugar de más de 5 asignaturas."
   ]
  },
  {
   "cell_type": "markdown",
   "metadata": {
    "slideshow": {
     "slide_type": "fragment"
    }
   },
   "source": [
    "* Pregunta: Si ordenara todas esas asignaturas en función del número de conocimientos nuevos adquiridos (siendo la asignatura con mayor número la que queda situada en la posición 1 de la lista ), ¿en qué posición aparece Tecnologías Multimedia?"
   ]
  },
  {
   "cell_type": "markdown",
   "metadata": {
    "slideshow": {
     "slide_type": "fragment"
    }
   },
   "source": [
    "* Respuesta más frecuente: 2º lugar."
   ]
  },
  {
   "cell_type": "markdown",
   "metadata": {
    "slideshow": {
     "slide_type": "slide"
    }
   },
   "source": [
    "# Algunas opiniones de los estudiantes sobre Sistemas Multimedia\n",
    "\n",
    "Recabadas mediante encuestas anónimas tras cursar la asignatura. Por ahora sólo 6 encuestados :-/"
   ]
  },
  {
   "cell_type": "markdown",
   "metadata": {
    "slideshow": {
     "slide_type": "fragment"
    }
   },
   "source": [
    "* Pregunta: Si ordenara las asignaturas cursadas durenta el primer cuatrimestre en función del tiempo de estudio total dedicado (siendo la asignatura a la que más tiempo ha dedicado la que queda situada en la posición 1 de la lista ), ¿en qué posición aparece Sistemas Multimedia?"
   ]
  },
  {
   "cell_type": "markdown",
   "metadata": {
    "slideshow": {
     "slide_type": "fragment"
    }
   },
   "source": [
    "* Respuesta más frecuente: 4º lugar de más de 8 asignaturas"
   ]
  },
  {
   "cell_type": "markdown",
   "metadata": {
    "slideshow": {
     "slide_type": "fragment"
    }
   },
   "source": [
    "* Pregunta: Si ordenara todas esas asignaturas en función del número de conocimientos nuevos adquiridos (siendo la asignatura con mayor número la que queda situada en la posición 1 de la lista ), ¿en qué posición aparece Tecnologías Multimedia?"
   ]
  },
  {
   "cell_type": "markdown",
   "metadata": {
    "slideshow": {
     "slide_type": "fragment"
    }
   },
   "source": [
    "* Respuesta más frecuente: 1$^{\\text{er}}$ lugar."
   ]
  },
  {
   "cell_type": "markdown",
   "metadata": {
    "slideshow": {
     "slide_type": "slide"
    }
   },
   "source": [
    "# Conclusiones\n",
    "\n",
    "1. El ABP junto (con la ECA) mejora el ratio aprobados/matriculados.\n",
    "2. Para el alumno, el ABP no supone más esfuerzo ni tiempo que otras formas de aprendizaje. Posiblemente para el profesorado esto no es así.\n",
    "3. Con el ABP, el alumnado adquiere destrezas, como son el trabajo en equipo o la defensa pública de trabajos, de forma más natural."
   ]
  },
  {
   "cell_type": "markdown",
   "metadata": {
    "slideshow": {
     "slide_type": "slide"
    }
   },
   "source": [
    "# Muchas gracias por su atención ¯\\\\\\_(ツ)\\_/¯"
   ]
  }
 ],
 "metadata": {
  "celltoolbar": "Slideshow",
  "kernelspec": {
   "display_name": "Python 3",
   "language": "python",
   "name": "python3"
  },
  "language_info": {
   "codemirror_mode": {
    "name": "ipython",
    "version": 3
   },
   "file_extension": ".py",
   "mimetype": "text/x-python",
   "name": "python",
   "nbconvert_exporter": "python",
   "pygments_lexer": "ipython3",
   "version": "3.9.5"
  }
 },
 "nbformat": 4,
 "nbformat_minor": 4
}
